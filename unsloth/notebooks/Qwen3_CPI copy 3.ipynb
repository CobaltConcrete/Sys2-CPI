version https://git-lfs.github.com/spec/v1
oid sha256:dafb23d8bfbdd74280fee42aab3eabed9d07d624dcb1a6982009fa2a02292351
size 582114
